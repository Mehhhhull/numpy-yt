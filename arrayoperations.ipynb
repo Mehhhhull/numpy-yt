{
  "nbformat": 4,
  "nbformat_minor": 0,
  "metadata": {
    "colab": {
      "provenance": [],
      "authorship_tag": "ABX9TyO8qkVS8HU01MomxHKeKdWw",
      "include_colab_link": true
    },
    "kernelspec": {
      "name": "python3",
      "display_name": "Python 3"
    },
    "language_info": {
      "name": "python"
    }
  },
  "cells": [
    {
      "cell_type": "markdown",
      "metadata": {
        "id": "view-in-github",
        "colab_type": "text"
      },
      "source": [
        "<a href=\"https://colab.research.google.com/github/Mehhhhull/numpy-yt/blob/main/arrayoperations.ipynb\" target=\"_parent\"><img src=\"https://colab.research.google.com/assets/colab-badge.svg\" alt=\"Open In Colab\"/></a>"
      ]
    },
    {
      "cell_type": "code",
      "execution_count": 22,
      "metadata": {
        "id": "1j3CP160N0l0"
      },
      "outputs": [],
      "source": [
        "import numpy as np"
      ]
    },
    {
      "cell_type": "markdown",
      "source": [
        "**ARRAY OPERATIONS**"
      ],
      "metadata": {
        "id": "4K6tXDRdOa_U"
      }
    },
    {
      "cell_type": "code",
      "source": [
        "a1=np.array([1,2,3,4,5])\n",
        "a2=np.array([6,7,8,9,10])\n"
      ],
      "metadata": {
        "id": "SEYN3_axOfdU"
      },
      "execution_count": 23,
      "outputs": []
    },
    {
      "cell_type": "code",
      "source": [
        "a1+a2"
      ],
      "metadata": {
        "colab": {
          "base_uri": "https://localhost:8080/"
        },
        "id": "JbmBDemPOfmd",
        "outputId": "5e511eca-1d33-4419-b95e-3e1c5a4bf3f0"
      },
      "execution_count": 24,
      "outputs": [
        {
          "output_type": "execute_result",
          "data": {
            "text/plain": [
              "array([ 7,  9, 11, 13, 15])"
            ]
          },
          "metadata": {},
          "execution_count": 24
        }
      ]
    },
    {
      "cell_type": "code",
      "source": [
        "a1-a2"
      ],
      "metadata": {
        "id": "QaAeBHRmOfpM",
        "colab": {
          "base_uri": "https://localhost:8080/"
        },
        "outputId": "0c803970-23c5-4985-8468-608e0ac2297b"
      },
      "execution_count": 25,
      "outputs": [
        {
          "output_type": "execute_result",
          "data": {
            "text/plain": [
              "array([-5, -5, -5, -5, -5])"
            ]
          },
          "metadata": {},
          "execution_count": 25
        }
      ]
    },
    {
      "cell_type": "code",
      "source": [
        "a1*a2"
      ],
      "metadata": {
        "id": "TIbGurakPwYO",
        "colab": {
          "base_uri": "https://localhost:8080/"
        },
        "outputId": "3acf37d0-b9d8-4795-9df3-2258bfba5b9a"
      },
      "execution_count": 26,
      "outputs": [
        {
          "output_type": "execute_result",
          "data": {
            "text/plain": [
              "array([ 6, 14, 24, 36, 50])"
            ]
          },
          "metadata": {},
          "execution_count": 26
        }
      ]
    },
    {
      "cell_type": "code",
      "source": [
        "a1/a2"
      ],
      "metadata": {
        "id": "-fY64c1CPwb1",
        "colab": {
          "base_uri": "https://localhost:8080/"
        },
        "outputId": "5194ea1d-02b4-4891-8c09-c5b59cb6daec"
      },
      "execution_count": 27,
      "outputs": [
        {
          "output_type": "execute_result",
          "data": {
            "text/plain": [
              "array([0.16666667, 0.28571429, 0.375     , 0.44444444, 0.5       ])"
            ]
          },
          "metadata": {},
          "execution_count": 27
        }
      ]
    },
    {
      "cell_type": "code",
      "source": [
        "a1//a2"
      ],
      "metadata": {
        "id": "KF-mAXZmPwfO",
        "colab": {
          "base_uri": "https://localhost:8080/"
        },
        "outputId": "3684cebb-e9e5-43db-87c2-7965441e5b9a"
      },
      "execution_count": 28,
      "outputs": [
        {
          "output_type": "execute_result",
          "data": {
            "text/plain": [
              "array([0, 0, 0, 0, 0])"
            ]
          },
          "metadata": {},
          "execution_count": 28
        }
      ]
    },
    {
      "cell_type": "code",
      "source": [
        "a1**a2"
      ],
      "metadata": {
        "id": "KBBRkePeP8zM",
        "colab": {
          "base_uri": "https://localhost:8080/"
        },
        "outputId": "ec38eefa-4ec9-4d85-9987-c87fcb3d964f"
      },
      "execution_count": 29,
      "outputs": [
        {
          "output_type": "execute_result",
          "data": {
            "text/plain": [
              "array([      1,     128,    6561,  262144, 9765625])"
            ]
          },
          "metadata": {},
          "execution_count": 29
        }
      ]
    },
    {
      "cell_type": "code",
      "source": [
        "l=[10,20,30,40]\n",
        "arr=np.array(l)"
      ],
      "metadata": {
        "id": "PPb81hkHP827"
      },
      "execution_count": 30,
      "outputs": []
    },
    {
      "cell_type": "code",
      "source": [
        "arr+10"
      ],
      "metadata": {
        "id": "Lmd5pM4eP86O",
        "colab": {
          "base_uri": "https://localhost:8080/"
        },
        "outputId": "fc53f71f-89dd-4752-a581-0634e77dab9a"
      },
      "execution_count": 31,
      "outputs": [
        {
          "output_type": "execute_result",
          "data": {
            "text/plain": [
              "array([20, 30, 40, 50])"
            ]
          },
          "metadata": {},
          "execution_count": 31
        }
      ]
    },
    {
      "cell_type": "markdown",
      "source": [
        "**DEEP AND SHALLOW COPY**:"
      ],
      "metadata": {
        "id": "nJjVBj1VQuLu"
      }
    },
    {
      "cell_type": "code",
      "source": [
        "a=np.arange(1,21)\n",
        "a"
      ],
      "metadata": {
        "id": "FoTbSCFBQm0r",
        "colab": {
          "base_uri": "https://localhost:8080/"
        },
        "outputId": "94ab68b4-6ef7-474c-cc7f-d86f4d7c73bd"
      },
      "execution_count": 32,
      "outputs": [
        {
          "output_type": "execute_result",
          "data": {
            "text/plain": [
              "array([ 1,  2,  3,  4,  5,  6,  7,  8,  9, 10, 11, 12, 13, 14, 15, 16, 17,\n",
              "       18, 19, 20])"
            ]
          },
          "metadata": {},
          "execution_count": 32
        }
      ]
    },
    {
      "cell_type": "code",
      "source": [
        "slice=a[:5]\n",
        "slice=slice*10\n",
        "slice"
      ],
      "metadata": {
        "id": "8pORFe0rQm3v",
        "colab": {
          "base_uri": "https://localhost:8080/"
        },
        "outputId": "9d56c51d-f88b-407a-8c67-45293ec7b9dd"
      },
      "execution_count": 33,
      "outputs": [
        {
          "output_type": "execute_result",
          "data": {
            "text/plain": [
              "array([10, 20, 30, 40, 50])"
            ]
          },
          "metadata": {},
          "execution_count": 33
        }
      ]
    },
    {
      "cell_type": "markdown",
      "source": [
        "Shallow copy:apni alag jagah bana leta h ram m original ko change ni krtaaaa.:array\n",
        "deep copy:array m se slice out kroge toh main array m b hoga:list a.copy"
      ],
      "metadata": {
        "id": "v-2ed_jbY0pd"
      }
    },
    {
      "cell_type": "code",
      "source": [
        "a"
      ],
      "metadata": {
        "id": "Yma3dhiZQm6o",
        "colab": {
          "base_uri": "https://localhost:8080/"
        },
        "outputId": "db9e4e2c-f417-445d-afd4-1df350256108"
      },
      "execution_count": 34,
      "outputs": [
        {
          "output_type": "execute_result",
          "data": {
            "text/plain": [
              "array([ 1,  2,  3,  4,  5,  6,  7,  8,  9, 10, 11, 12, 13, 14, 15, 16, 17,\n",
              "       18, 19, 20])"
            ]
          },
          "metadata": {},
          "execution_count": 34
        }
      ]
    },
    {
      "cell_type": "code",
      "source": [
        "a[4:6]*10"
      ],
      "metadata": {
        "id": "d1PK1n2FQm9D",
        "colab": {
          "base_uri": "https://localhost:8080/"
        },
        "outputId": "71252e26-0847-478d-e959-50c91246e95c"
      },
      "execution_count": 35,
      "outputs": [
        {
          "output_type": "execute_result",
          "data": {
            "text/plain": [
              "array([50, 60])"
            ]
          },
          "metadata": {},
          "execution_count": 35
        }
      ]
    },
    {
      "cell_type": "code",
      "source": [
        "a\n",
        "b=a"
      ],
      "metadata": {
        "id": "d4Delv2Ti9LT"
      },
      "execution_count": 36,
      "outputs": []
    },
    {
      "cell_type": "code",
      "source": [
        "b[0]=99\n",
        "b"
      ],
      "metadata": {
        "colab": {
          "base_uri": "https://localhost:8080/"
        },
        "id": "hRFs9KFmi9Oq",
        "outputId": "b8fd8633-9408-4d25-dee9-11f290abf19c"
      },
      "execution_count": 37,
      "outputs": [
        {
          "output_type": "execute_result",
          "data": {
            "text/plain": [
              "array([99,  2,  3,  4,  5,  6,  7,  8,  9, 10, 11, 12, 13, 14, 15, 16, 17,\n",
              "       18, 19, 20])"
            ]
          },
          "metadata": {},
          "execution_count": 37
        }
      ]
    },
    {
      "cell_type": "code",
      "source": [
        "a"
      ],
      "metadata": {
        "colab": {
          "base_uri": "https://localhost:8080/"
        },
        "id": "wwkBsa1ii9Sc",
        "outputId": "156ec726-126b-472b-894d-6523a217e4c4"
      },
      "execution_count": 38,
      "outputs": [
        {
          "output_type": "execute_result",
          "data": {
            "text/plain": [
              "array([99,  2,  3,  4,  5,  6,  7,  8,  9, 10, 11, 12, 13, 14, 15, 16, 17,\n",
              "       18, 19, 20])"
            ]
          },
          "metadata": {},
          "execution_count": 38
        }
      ]
    },
    {
      "cell_type": "markdown",
      "source": [
        "a.copy to create shallow copy."
      ],
      "metadata": {
        "id": "q2bFOgw0j15j"
      }
    },
    {
      "cell_type": "markdown",
      "source": [
        "**MATRIX OPS**"
      ],
      "metadata": {
        "id": "hSSj-Xg7kB3D"
      }
    },
    {
      "cell_type": "code",
      "source": [
        "A=np.array([[1,2],[3,4]])\n",
        "B=np.array([[5,6],[7,8]])"
      ],
      "metadata": {
        "id": "HxdOxApmkFG0"
      },
      "execution_count": 40,
      "outputs": []
    },
    {
      "cell_type": "code",
      "source": [
        "A"
      ],
      "metadata": {
        "colab": {
          "base_uri": "https://localhost:8080/"
        },
        "id": "AYGtjTuzi9VD",
        "outputId": "d5c39835-5222-4c1c-e28a-0089b71b21be"
      },
      "execution_count": 41,
      "outputs": [
        {
          "output_type": "execute_result",
          "data": {
            "text/plain": [
              "array([[1, 2],\n",
              "       [3, 4]])"
            ]
          },
          "metadata": {},
          "execution_count": 41
        }
      ]
    },
    {
      "cell_type": "code",
      "source": [
        "B"
      ],
      "metadata": {
        "colab": {
          "base_uri": "https://localhost:8080/"
        },
        "id": "_gf5Or8Zi9xs",
        "outputId": "3a6ae87c-5d77-45cd-f571-bea7fd54241b"
      },
      "execution_count": 42,
      "outputs": [
        {
          "output_type": "execute_result",
          "data": {
            "text/plain": [
              "array([[5, 6],\n",
              "       [7, 8]])"
            ]
          },
          "metadata": {},
          "execution_count": 42
        }
      ]
    },
    {
      "cell_type": "code",
      "source": [
        "A @ B"
      ],
      "metadata": {
        "colab": {
          "base_uri": "https://localhost:8080/"
        },
        "id": "m__gjqsUklH-",
        "outputId": "0c93e5a6-d7a2-48c7-8ae4-c87598d2ff2a"
      },
      "execution_count": 43,
      "outputs": [
        {
          "output_type": "execute_result",
          "data": {
            "text/plain": [
              "array([[19, 22],\n",
              "       [43, 50]])"
            ]
          },
          "metadata": {},
          "execution_count": 43
        }
      ]
    },
    {
      "cell_type": "code",
      "source": [
        "np.dot(A,B)"
      ],
      "metadata": {
        "colab": {
          "base_uri": "https://localhost:8080/"
        },
        "id": "cN3WLM2IklKq",
        "outputId": "8b988e3d-0777-4333-ecce-a3f0e7fc8e3b"
      },
      "execution_count": 44,
      "outputs": [
        {
          "output_type": "execute_result",
          "data": {
            "text/plain": [
              "array([[19, 22],\n",
              "       [43, 50]])"
            ]
          },
          "metadata": {},
          "execution_count": 44
        }
      ]
    },
    {
      "cell_type": "code",
      "source": [
        "A.T"
      ],
      "metadata": {
        "colab": {
          "base_uri": "https://localhost:8080/"
        },
        "id": "ZJDDcnTWklNd",
        "outputId": "c22a498b-487e-4548-d099-3ac3ec3df6a8"
      },
      "execution_count": 45,
      "outputs": [
        {
          "output_type": "execute_result",
          "data": {
            "text/plain": [
              "array([[1, 3],\n",
              "       [2, 4]])"
            ]
          },
          "metadata": {},
          "execution_count": 45
        }
      ]
    },
    {
      "cell_type": "markdown",
      "source": [
        "**ADVANCE ARRAY MANIPULATION**"
      ],
      "metadata": {
        "id": "OhaaPbKEllsE"
      }
    },
    {
      "cell_type": "markdown",
      "source": [
        "Stacking Array:Have to use vectors, cant use matrix"
      ],
      "metadata": {
        "id": "KtSFwCqplxJy"
      }
    },
    {
      "cell_type": "code",
      "source": [
        "A=np.array([1,2,3,4])\n",
        "B=np.array([5,6,7,8])"
      ],
      "metadata": {
        "id": "snBfn32aklQG"
      },
      "execution_count": 49,
      "outputs": []
    },
    {
      "cell_type": "code",
      "source": [
        "np.vstack((A,B))"
      ],
      "metadata": {
        "colab": {
          "base_uri": "https://localhost:8080/"
        },
        "id": "kPXunxBElsjy",
        "outputId": "4406846c-7ab6-4518-c90b-b7e964f7281e"
      },
      "execution_count": 51,
      "outputs": [
        {
          "output_type": "execute_result",
          "data": {
            "text/plain": [
              "array([[1, 2, 3, 4],\n",
              "       [5, 6, 7, 8]])"
            ]
          },
          "metadata": {},
          "execution_count": 51
        }
      ]
    },
    {
      "cell_type": "code",
      "source": [
        "np.hstack((A,B))"
      ],
      "metadata": {
        "colab": {
          "base_uri": "https://localhost:8080/"
        },
        "id": "dprLayAelsmS",
        "outputId": "21504be5-ca04-4cb8-a980-94a680cdf0e3"
      },
      "execution_count": 52,
      "outputs": [
        {
          "output_type": "execute_result",
          "data": {
            "text/plain": [
              "array([1, 2, 3, 4, 5, 6, 7, 8])"
            ]
          },
          "metadata": {},
          "execution_count": 52
        }
      ]
    },
    {
      "cell_type": "code",
      "source": [
        "np.column_stack((A,B))"
      ],
      "metadata": {
        "colab": {
          "base_uri": "https://localhost:8080/"
        },
        "id": "dUHmg3JmlspK",
        "outputId": "2a6a945b-e576-417d-94a8-1457ea488a16"
      },
      "execution_count": 53,
      "outputs": [
        {
          "output_type": "execute_result",
          "data": {
            "text/plain": [
              "array([[1, 5],\n",
              "       [2, 6],\n",
              "       [3, 7],\n",
              "       [4, 8]])"
            ]
          },
          "metadata": {},
          "execution_count": 53
        }
      ]
    },
    {
      "cell_type": "markdown",
      "source": [
        "Splitting array"
      ],
      "metadata": {
        "id": "LDBEFD_Bmtnb"
      }
    },
    {
      "cell_type": "code",
      "source": [
        "c=np.arange(16).reshape(4,4)\n",
        "c"
      ],
      "metadata": {
        "colab": {
          "base_uri": "https://localhost:8080/"
        },
        "id": "fZeUJAKEmxAS",
        "outputId": "06cb5ef4-c2e7-4187-a502-f94169cad7a0"
      },
      "execution_count": 54,
      "outputs": [
        {
          "output_type": "execute_result",
          "data": {
            "text/plain": [
              "array([[ 0,  1,  2,  3],\n",
              "       [ 4,  5,  6,  7],\n",
              "       [ 8,  9, 10, 11],\n",
              "       [12, 13, 14, 15]])"
            ]
          },
          "metadata": {},
          "execution_count": 54
        }
      ]
    },
    {
      "cell_type": "code",
      "source": [
        "np.hsplit(c,2)"
      ],
      "metadata": {
        "colab": {
          "base_uri": "https://localhost:8080/"
        },
        "id": "UqIwJFIMmxGi",
        "outputId": "bb507f37-8d06-4b24-9c92-c0c67b725f10"
      },
      "execution_count": 55,
      "outputs": [
        {
          "output_type": "execute_result",
          "data": {
            "text/plain": [
              "[array([[ 0,  1],\n",
              "        [ 4,  5],\n",
              "        [ 8,  9],\n",
              "        [12, 13]]),\n",
              " array([[ 2,  3],\n",
              "        [ 6,  7],\n",
              "        [10, 11],\n",
              "        [14, 15]])]"
            ]
          },
          "metadata": {},
          "execution_count": 55
        }
      ]
    },
    {
      "cell_type": "code",
      "source": [
        "np.hsplit(c,4)"
      ],
      "metadata": {
        "colab": {
          "base_uri": "https://localhost:8080/"
        },
        "id": "sXrBrNyDmxJL",
        "outputId": "b28a6a7e-bb22-4ecd-c600-8eebad32b6fa"
      },
      "execution_count": 56,
      "outputs": [
        {
          "output_type": "execute_result",
          "data": {
            "text/plain": [
              "[array([[ 0],\n",
              "        [ 4],\n",
              "        [ 8],\n",
              "        [12]]),\n",
              " array([[ 1],\n",
              "        [ 5],\n",
              "        [ 9],\n",
              "        [13]]),\n",
              " array([[ 2],\n",
              "        [ 6],\n",
              "        [10],\n",
              "        [14]]),\n",
              " array([[ 3],\n",
              "        [ 7],\n",
              "        [11],\n",
              "        [15]])]"
            ]
          },
          "metadata": {},
          "execution_count": 56
        }
      ]
    },
    {
      "cell_type": "code",
      "source": [
        "a=np.vsplit(c,2)"
      ],
      "metadata": {
        "id": "yhmbZAkTmxLy"
      },
      "execution_count": 59,
      "outputs": []
    },
    {
      "cell_type": "code",
      "source": [
        "for i in a:\n",
        "    print(i)"
      ],
      "metadata": {
        "colab": {
          "base_uri": "https://localhost:8080/"
        },
        "id": "h0WMW9hAnjNL",
        "outputId": "4bf315e0-86f0-4cfb-e6a8-dbb8ca108ac1"
      },
      "execution_count": 61,
      "outputs": [
        {
          "output_type": "stream",
          "name": "stdout",
          "text": [
            "[[0 1 2 3]\n",
            " [4 5 6 7]]\n",
            "[[ 8  9 10 11]\n",
            " [12 13 14 15]]\n"
          ]
        }
      ]
    }
  ]
}